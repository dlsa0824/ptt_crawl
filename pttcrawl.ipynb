{
 "cells": [
  {
   "cell_type": "code",
   "execution_count": 1,
   "metadata": {},
   "outputs": [],
   "source": [
    "import requests\n",
    "from bs4 import BeautifulSoup"
   ]
  },
  {
   "cell_type": "markdown",
   "metadata": {},
   "source": [
    "# 爬蟲單頁"
   ]
  },
  {
   "cell_type": "code",
   "execution_count": 2,
   "metadata": {},
   "outputs": [],
   "source": [
    "r = requests.get(\"https://www.ptt.cc/bbs/MobileComm/index.html\") #將此頁面的HTML GET下來\n",
    "# print(r.text) #印出HTML"
   ]
  },
  {
   "cell_type": "code",
   "execution_count": 3,
   "metadata": {
    "scrolled": true
   },
   "outputs": [],
   "source": [
    "soup = BeautifulSoup(r.text,\"html.parser\") #將網頁資料以html.parser\n",
    "# sel = soup.select(\"div.title a\") #取HTML標中的 <div class=\"title\"></div> 中的<a>標籤存入sel\n",
    "sel = soup.find_all(\"div\",\"title\")\n",
    "# print(sel)"
   ]
  },
  {
   "cell_type": "code",
   "execution_count": 4,
   "metadata": {},
   "outputs": [],
   "source": [
    "# 印出爬的內容\n",
    "# for s in sel:\n",
    "#     try:\n",
    "#         messages = s.find('a').getText()\n",
    "#         print(messages)\n",
    "#     except:\n",
    "#         continue\n",
    "#     print(s[\"href\"], s.text)\n",
    "#     print(s.text)"
   ]
  },
  {
   "cell_type": "markdown",
   "metadata": {},
   "source": [
    "# 爬蟲多頁"
   ]
  },
  {
   "cell_type": "code",
   "execution_count": 5,
   "metadata": {},
   "outputs": [],
   "source": [
    "url = \"https://www.ptt.cc/bbs/MobileComm/index.html\"\n",
    "titlelist=list()\n",
    "for i in range(3): #往上爬3頁\n",
    "    r = requests.get(url)\n",
    "    soup = BeautifulSoup(r.text,\"html.parser\")\n",
    "    sel = soup.select(\"div.title a\") #標題\n",
    "    \n",
    "    for s in reversed(sel):\n",
    "        titlelist.append(s.text)\n",
    "        \n",
    "    u = soup.select(\"div.btn-group.btn-group-paging a\") #a標籤\n",
    "    url = \"https://www.ptt.cc\"+ u[1][\"href\"] #上一頁的網址"
   ]
  },
  {
   "cell_type": "code",
   "execution_count": 6,
   "metadata": {},
   "outputs": [],
   "source": [
    "#印出爬的內容\n",
    "# for s in titlelist:\n",
    "#     print(s)"
   ]
  },
  {
   "cell_type": "markdown",
   "metadata": {},
   "source": [
    "# 爬八卦版"
   ]
  },
  {
   "cell_type": "code",
   "execution_count": 7,
   "metadata": {},
   "outputs": [],
   "source": [
    "import requests\n",
    "r = requests.Session()\n",
    "payload ={ #須送之參數\n",
    "    \"from\":\"/bbs/Gossiping/index.html\",\n",
    "    \"yes\":\"yes\"\n",
    "}\n",
    "r1 = r.post(\"https://www.ptt.cc/ask/over18?from=%2Fbbs%2FGossiping%2Findex.html\",payload) #將參數寫至data\n",
    "r2 = r.get(\"https://www.ptt.cc/bbs/Gossiping/index.html\")\n",
    "# print(r2.text)\n"
   ]
  },
  {
   "cell_type": "markdown",
   "metadata": {},
   "source": [
    "# 爬內文、標題、作者、時間"
   ]
  },
  {
   "cell_type": "code",
   "execution_count": 8,
   "metadata": {},
   "outputs": [],
   "source": [
    "%config IPCompleter.greedy=True #可以使用hint(tab)，可是好像沒啥用\n",
    "url='https://www.ptt.cc/bbs/MobileComm/M.1562816676.A.F94.html'\n",
    "r = requests.get(url) #將此頁面的HTML GET下來\n",
    "# print(r.text) #印出HTML"
   ]
  },
  {
   "cell_type": "code",
   "execution_count": 9,
   "metadata": {},
   "outputs": [],
   "source": [
    "a=r.text\n",
    "b=a.split('article-metaline')[4]\n",
    "c=b.split('</span></div>')[1]\n",
    "d=c.split('<span class=')[0]\n",
    "# print(d)"
   ]
  },
  {
   "cell_type": "code",
   "execution_count": 10,
   "metadata": {},
   "outputs": [
    {
     "name": "stdout",
     "output_type": "stream",
     "text": [
      "[<span class=\"article-meta-value\">c52chungyuny (intel inside)</span>, <span class=\"article-meta-value\">MobileComm</span>, <span class=\"article-meta-value\">[心得] 大推三星預購兩年保跟維修流程</span>, <span class=\"article-meta-value\">Thu Jul 11 11:44:30 2019</span>]\n"
     ]
    }
   ],
   "source": [
    "soup = BeautifulSoup(r.text,\"html.parser\") #將網頁資料以html.parser\n",
    "# sel = soup.select(\"div.title a\") #取HTML標中的 <div class=\"title\"></div> 中的<a>標籤存入sel\n",
    "sel = soup.select(\"span.article-meta-value\")\n",
    "print(sel)"
   ]
  },
  {
   "cell_type": "code",
   "execution_count": 11,
   "metadata": {},
   "outputs": [
    {
     "name": "stdout",
     "output_type": "stream",
     "text": [
      "作者：c52chungyuny (intel inside)\n",
      "標題：[心得] 大推三星預購兩年保跟維修流程\n",
      "時間：Thu Jul 11 11:44:30 2019\n"
     ]
    }
   ],
   "source": [
    "print('作者：'+sel[0].text)\n",
    "print('標題：'+sel[2].text)\n",
    "print('時間：'+sel[3].text)"
   ]
  },
  {
   "cell_type": "code",
   "execution_count": null,
   "metadata": {},
   "outputs": [],
   "source": []
  }
 ],
 "metadata": {
  "kernelspec": {
   "display_name": "Python 3",
   "language": "python",
   "name": "python3"
  },
  "language_info": {
   "codemirror_mode": {
    "name": "ipython",
    "version": 3
   },
   "file_extension": ".py",
   "mimetype": "text/x-python",
   "name": "python",
   "nbconvert_exporter": "python",
   "pygments_lexer": "ipython3",
   "version": "3.7.3"
  }
 },
 "nbformat": 4,
 "nbformat_minor": 2
}
