{
 "cells": [
  {
   "cell_type": "code",
   "execution_count": 1,
   "metadata": {},
   "outputs": [],
   "source": [
    "import requests\n",
    "from bs4 import BeautifulSoup\n",
    "import pandas as pd"
   ]
  },
  {
   "cell_type": "code",
   "execution_count": 2,
   "metadata": {},
   "outputs": [],
   "source": [
    "def getTitle(title,count,uparticle):\n",
    "    title_templist=list()\n",
    "    for s in reversed(title):\n",
    "        title_templist.append(s.text)\n",
    "    if count==0:                 #第一頁的置頂貼文不是我們要的，根據每個版的置頂貼文數量不同，刪掉不同數量的文章。\n",
    "        title_templist=title_templist[uparticle:]\n",
    "        \n",
    "    return title_templist"
   ]
  },
  {
   "cell_type": "code",
   "execution_count": 3,
   "metadata": {},
   "outputs": [],
   "source": [
    "def getUrl(title,count,uparticle):\n",
    "    url_templist=list()\n",
    "    for t in reversed(title):\n",
    "        url_templist.append(t['href'])\n",
    "    if count==0:\n",
    "        url_templist=url_templist[uparticle:]\n",
    "        \n",
    "    return url_templist"
   ]
  },
  {
   "cell_type": "code",
   "execution_count": 4,
   "metadata": {},
   "outputs": [],
   "source": [
    "def getContent(r):\n",
    "    \n",
    "    a=r.text\n",
    "    b=a.split('article-metaline')[4]\n",
    "    c=b.split('</span></div>')[1]\n",
    "    d=c.split('<span class=')[0]\n",
    "    \n",
    "    return d"
   ]
  },
  {
   "cell_type": "code",
   "execution_count": 5,
   "metadata": {},
   "outputs": [],
   "source": [
    "def getAuthor(meta):\n",
    "    author=meta[0].text\n",
    "    \n",
    "    return author"
   ]
  },
  {
   "cell_type": "code",
   "execution_count": 6,
   "metadata": {},
   "outputs": [],
   "source": [
    "def getTime(meta):\n",
    "    time=meta[3].text\n",
    "    \n",
    "    return time"
   ]
  },
  {
   "cell_type": "code",
   "execution_count": 7,
   "metadata": {},
   "outputs": [],
   "source": [
    "url = \"https://www.ptt.cc/bbs/MobileComm/index.html\"\n",
    "\n",
    "titlelist=list()\n",
    "urllist=list()\n",
    "contentlist=list()\n",
    "timelist=list()\n",
    "authorlist=list()\n",
    "\n",
    "uparticle=5 #輸入有幾篇置頂文章\n",
    "count=0\n",
    "for i in range(2): #往上爬?頁\n",
    "    r = requests.get(url)\n",
    "    soup = BeautifulSoup(r.text,\"html.parser\")\n",
    "    title = soup.select(\"div.title a\") #標題\n",
    "    \n",
    "    titlelist=titlelist+getTitle(title, count, uparticle)\n",
    "    urllist=urllist+getUrl(title, count, uparticle)\n",
    "    \n",
    "    u = soup.select(\"div.btn-group.btn-group-paging a\") #a標籤\n",
    "    url = \"https://www.ptt.cc\"+ u[1][\"href\"] #上一頁的網址\n",
    "    \n",
    "    count+=1\n",
    "for j in range(len(urllist)):\n",
    "    c_url='https://www.ptt.cc'+urllist[j]\n",
    "    r=requests.get(c_url)\n",
    "    contentlist.append(getContent(r))\n",
    "    \n",
    "    soup=BeautifulSoup(r.text, 'html.parser')\n",
    "    meta=soup.select(\"span.article-meta-value\")\n",
    "    authorlist.append(getAuthor(meta))\n",
    "    timelist.append(getTime(meta))"
   ]
  },
  {
   "cell_type": "code",
   "execution_count": 8,
   "metadata": {},
   "outputs": [],
   "source": [
    "s1 = pd.Series(titlelist, name='title')\n",
    "s2 = pd.Series(authorlist, name='author')\n",
    "s3 = pd.Series(timelist, name='time')\n",
    "s4 = pd.Series(contentlist, name='content')\n",
    "\n"
   ]
  },
  {
   "cell_type": "code",
   "execution_count": 9,
   "metadata": {},
   "outputs": [],
   "source": [
    "crawltable = pd.concat([s1, s2, s3, s4], axis=1)"
   ]
  },
  {
   "cell_type": "code",
   "execution_count": 10,
   "metadata": {},
   "outputs": [
    {
     "data": {
      "text/html": [
       "<div>\n",
       "<style scoped>\n",
       "    .dataframe tbody tr th:only-of-type {\n",
       "        vertical-align: middle;\n",
       "    }\n",
       "\n",
       "    .dataframe tbody tr th {\n",
       "        vertical-align: top;\n",
       "    }\n",
       "\n",
       "    .dataframe thead th {\n",
       "        text-align: right;\n",
       "    }\n",
       "</style>\n",
       "<table border=\"1\" class=\"dataframe\">\n",
       "  <thead>\n",
       "    <tr style=\"text-align: right;\">\n",
       "      <th></th>\n",
       "      <th>title</th>\n",
       "      <th>author</th>\n",
       "      <th>time</th>\n",
       "      <th>content</th>\n",
       "    </tr>\n",
       "  </thead>\n",
       "  <tbody>\n",
       "    <tr>\n",
       "      <th>0</th>\n",
       "      <td>[問題] 小米選擇</td>\n",
       "      <td>mizubishi (mizubishi)</td>\n",
       "      <td>Mon Dec  9 20:56:04 2019</td>\n",
       "      <td>\\n之前的安卓機快掛了\\n差不多可以換一台\\n\\n原本看上VIVO的Y17\\n出門看了很多地...</td>\n",
       "    </tr>\n",
       "    <tr>\n",
       "      <th>1</th>\n",
       "      <td>[問題] LM211+PIXEL 4 XL 沒有LTE+？</td>\n",
       "      <td>sdtt (飛鑽夜)</td>\n",
       "      <td>Mon Dec  9 20:50:06 2019</td>\n",
       "      <td>\\n先前有看過遠傳本來沒有，後續更新後就有了，想說lm應該同是遠傳，也會改正吧…\\n\\n忍到...</td>\n",
       "    </tr>\n",
       "    <tr>\n",
       "      <th>2</th>\n",
       "      <td>[新聞] 又一個應用程式終結！ Windows 10 Mobile</td>\n",
       "      <td>olmtw (支持htc，支持台灣貨)</td>\n",
       "      <td>Mon Dec  9 20:33:00 2019</td>\n",
       "      <td>\\n</td>\n",
       "    </tr>\n",
       "    <tr>\n",
       "      <th>3</th>\n",
       "      <td>[情報] pc家realme 5 pro逼近名店價</td>\n",
       "      <td>bigbowl ( Gathering Storm。)</td>\n",
       "      <td>Mon Dec  9 20:24:45 2019</td>\n",
       "      <td>\\n呃…我最近好像pc家/realme業配喔\\n\\n名店5 pro最低看到現金價6500\\n...</td>\n",
       "    </tr>\n",
       "  </tbody>\n",
       "</table>\n",
       "</div>"
      ],
      "text/plain": [
       "                               title                       author  \\\n",
       "0                          [問題] 小米選擇        mizubishi (mizubishi)   \n",
       "1      [問題] LM211+PIXEL 4 XL 沒有LTE+？                   sdtt (飛鑽夜)   \n",
       "2  [新聞] 又一個應用程式終結！ Windows 10 Mobile          olmtw (支持htc，支持台灣貨)   \n",
       "3          [情報] pc家realme 5 pro逼近名店價  bigbowl ( Gathering Storm。)   \n",
       "\n",
       "                       time                                            content  \n",
       "0  Mon Dec  9 20:56:04 2019  \\n之前的安卓機快掛了\\n差不多可以換一台\\n\\n原本看上VIVO的Y17\\n出門看了很多地...  \n",
       "1  Mon Dec  9 20:50:06 2019  \\n先前有看過遠傳本來沒有，後續更新後就有了，想說lm應該同是遠傳，也會改正吧…\\n\\n忍到...  \n",
       "2  Mon Dec  9 20:33:00 2019                                                 \\n  \n",
       "3  Mon Dec  9 20:24:45 2019  \\n呃…我最近好像pc家/realme業配喔\\n\\n名店5 pro最低看到現金價6500\\n...  "
      ]
     },
     "execution_count": 10,
     "metadata": {},
     "output_type": "execute_result"
    }
   ],
   "source": [
    "crawltable.head(4)"
   ]
  },
  {
   "cell_type": "code",
   "execution_count": 11,
   "metadata": {},
   "outputs": [],
   "source": [
    "crawltable.to_csv('pttcrawl.csv')"
   ]
  },
  {
   "cell_type": "code",
   "execution_count": null,
   "metadata": {},
   "outputs": [],
   "source": []
  }
 ],
 "metadata": {
  "kernelspec": {
   "display_name": "Python 3",
   "language": "python",
   "name": "python3"
  },
  "language_info": {
   "codemirror_mode": {
    "name": "ipython",
    "version": 3
   },
   "file_extension": ".py",
   "mimetype": "text/x-python",
   "name": "python",
   "nbconvert_exporter": "python",
   "pygments_lexer": "ipython3",
   "version": "3.7.3"
  }
 },
 "nbformat": 4,
 "nbformat_minor": 2
}
